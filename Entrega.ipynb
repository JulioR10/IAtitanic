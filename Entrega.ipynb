{
 "cells": [
  {
   "cell_type": "code",
   "execution_count": 1,
   "id": "d69a8fe8",
   "metadata": {},
   "outputs": [],
   "source": [
    "import pandas as pd\n",
    "import numpy as np\n",
    "from sklearn.preprocessing import StandardScaler\n",
    "from sklearn.model_selection import train_test_split\n",
    "from sklearn.linear_model import LogisticRegression\n",
    "from sklearn.metrics import accuracy_score, classification_report, confusion_matrix\n",
    "from sklearn.tree import DecisionTreeClassifier\n",
    "from sklearn.model_selection import GridSearchCV\n",
    "from sklearn.ensemble import RandomForestClassifier"
   ]
  },
  {
   "cell_type": "code",
   "execution_count": 2,
   "id": "93b322a5",
   "metadata": {},
   "outputs": [],
   "source": [
    "# Se carga el conjunto de datos\n",
    "data = pd.read_csv('train.csv')\n",
    "\n",
    "# Se rellenan las edades faltantes con la mediana\n",
    "data['Age'].fillna(data['Age'].median(), inplace=True)\n",
    "\n",
    "# Se rellenan los valores faltantes de la columna 'Embarked' con el valor más común\n",
    "data['Embarked'].fillna(data['Embarked'].mode()[0], inplace=True)\n",
    "\n",
    "# Se eliminan las características irrelevantes\n",
    "data.drop(['Name', 'Ticket', 'Cabin'], axis=1, inplace=True)\n",
    "\n",
    "# Se convierte la columna 'Sex' en una variable numérica (1 para 'male' y 0 para 'female')\n",
    "data['Sex'] = data['Sex'].map({'male': 1, 'female': 0})\n",
    "\n",
    "# Se convierte la columna 'Embarked' en variables numéricas utilizando la codificación One-Hot\n",
    "embarked_encoded = pd.get_dummies(data['Embarked'], prefix='Embarked')\n",
    "data = pd.concat([data, embarked_encoded], axis=1)\n",
    "data.drop(['Embarked'], axis=1, inplace=True)\n",
    "\n",
    "# Se guarda el conjunto de datos limpio en un nuevo archivo CSV\n",
    "data.to_csv('titanic_data_cleaned.csv', index=False)"
   ]
  },
  {
   "cell_type": "code",
   "execution_count": 3,
   "id": "86ae9fec",
   "metadata": {},
   "outputs": [
    {
     "name": "stdout",
     "output_type": "stream",
     "text": [
      "Accuracy (Adjusted Parameters): 0.81\n",
      "Confusion Matrix:\n",
      "[[135  22]\n",
      " [ 30  81]]\n",
      "Classification Report:\n",
      "              precision    recall  f1-score   support\n",
      "\n",
      "           0       0.82      0.86      0.84       157\n",
      "           1       0.79      0.73      0.76       111\n",
      "\n",
      "    accuracy                           0.81       268\n",
      "   macro avg       0.80      0.79      0.80       268\n",
      "weighted avg       0.81      0.81      0.80       268\n",
      "\n"
     ]
    }
   ],
   "source": [
    "data = pd.read_csv('titanic_data_cleaned.csv')\n",
    "\n",
    "# Separar las características (X) y la variable objetivo (y)\n",
    "X = data.drop('Survived', axis=1)\n",
    "y = data['Survived']\n",
    "\n",
    "# Partición entrenamiento-prueba (70% para entrenamiento, 30% para prueba)\n",
    "X_train, X_test, y_train, y_test = train_test_split(X, y, test_size=0.3, random_state=42)\n",
    "\n",
    "# Realizar el escalado de datos\n",
    "scaler = StandardScaler()\n",
    "X_train = scaler.fit_transform(X_train)\n",
    "X_test = scaler.transform(X_test)\n",
    "\n",
    "# Entrenar el modelo de Regresión Logística con parámetros ajustados\n",
    "clf = LogisticRegression(max_iter=1000, random_state=42)\n",
    "clf.fit(X_train, y_train)\n",
    "\n",
    "# Realizar predicciones sobre el conjunto de pruebas\n",
    "y_pred = clf.predict(X_test)\n",
    "\n",
    "# Evaluar el rendimiento del modelo\n",
    "accuracy = accuracy_score(y_test, y_pred)\n",
    "print(f'Accuracy (Adjusted Parameters): {accuracy:.2f}')\n",
    "\n",
    "conf_matrix = confusion_matrix(y_test, y_pred)\n",
    "print(f'Confusion Matrix:\\n{conf_matrix}')\n",
    "\n",
    "class_report = classification_report(y_test, y_pred)\n",
    "print(f'Classification Report:\\n{class_report}')"
   ]
  },
  {
   "cell_type": "code",
   "execution_count": 4,
   "id": "20c29397",
   "metadata": {},
   "outputs": [],
   "source": [
    "# ARBOL DE DECISION"
   ]
  },
  {
   "cell_type": "code",
   "execution_count": 5,
   "id": "9ef7df38",
   "metadata": {},
   "outputs": [
    {
     "name": "stdout",
     "output_type": "stream",
     "text": [
      "Accuracy: 0.78\n",
      "Confusion Matrix:\n",
      "[[128  29]\n",
      " [ 31  80]]\n",
      "Classification Report:\n",
      "              precision    recall  f1-score   support\n",
      "\n",
      "           0       0.81      0.82      0.81       157\n",
      "           1       0.73      0.72      0.73       111\n",
      "\n",
      "    accuracy                           0.78       268\n",
      "   macro avg       0.77      0.77      0.77       268\n",
      "weighted avg       0.78      0.78      0.78       268\n",
      "\n"
     ]
    }
   ],
   "source": [
    "# Entrenamiento del modelo de Árbol de decisión\n",
    "clf = DecisionTreeClassifier(random_state=42)\n",
    "clf.fit(X_train, y_train)\n",
    "\n",
    "# Predicciones en el conjunto de prueba\n",
    "y_pred = clf.predict(X_test)\n",
    "\n",
    "# Rendimiento del modelo\n",
    "accuracy = accuracy_score(y_test, y_pred)\n",
    "print(f'Accuracy: {accuracy:.2f}')\n",
    "\n",
    "conf_matrix = confusion_matrix(y_test, y_pred)\n",
    "print(f'Confusion Matrix:\\n{conf_matrix}')\n",
    "\n",
    "class_report = classification_report(y_test, y_pred)\n",
    "print(f'Classification Report:\\n{class_report}')"
   ]
  },
  {
   "cell_type": "code",
   "execution_count": 6,
   "id": "844bf0c2",
   "metadata": {},
   "outputs": [
    {
     "name": "stdout",
     "output_type": "stream",
     "text": [
      "Accuracy: 0.82\n",
      "Confusion Matrix:\n",
      "[[143  14]\n",
      " [ 33  78]]\n",
      "Classification Report:\n",
      "              precision    recall  f1-score   support\n",
      "\n",
      "           0       0.81      0.91      0.86       157\n",
      "           1       0.85      0.70      0.77       111\n",
      "\n",
      "    accuracy                           0.82       268\n",
      "   macro avg       0.83      0.81      0.81       268\n",
      "weighted avg       0.83      0.82      0.82       268\n",
      "\n"
     ]
    }
   ],
   "source": [
    "# PARAMETROS MEJORADOS\n",
    "# Entrene el modelo de Árbol de decisión con parámetros mejorados\n",
    "clf = DecisionTreeClassifier(criterion='entropy', max_depth=5, min_samples_split=20, random_state=42)\n",
    "clf.fit(X_train, y_train)\n",
    "\n",
    "# Realice predicciones en el conjunto de prueba\n",
    "y_pred = clf.predict(X_test)\n",
    "\n",
    "# Rendimiento del modelo\n",
    "accuracy = accuracy_score(y_test, y_pred)\n",
    "print(f'Accuracy: {accuracy:.2f}')\n",
    "\n",
    "conf_matrix = confusion_matrix(y_test, y_pred)\n",
    "print(f'Confusion Matrix:\\n{conf_matrix}')\n",
    "\n",
    "class_report = classification_report(y_test, y_pred)\n",
    "print(f'Classification Report:\\n{class_report}')"
   ]
  },
  {
   "cell_type": "code",
   "execution_count": 7,
   "id": "469b1fae",
   "metadata": {},
   "outputs": [
    {
     "name": "stdout",
     "output_type": "stream",
     "text": [
      "Fitting 5 folds for each of 90 candidates, totalling 450 fits\n",
      "Best Hyperparameters: {'criterion': 'entropy', 'max_depth': 3, 'min_samples_leaf': 2, 'min_samples_split': 2}\n",
      "Best Score: 0.8073806451612905\n",
      "Accuracy: 0.82\n",
      "Confusion Matrix:\n",
      "[[141  16]\n",
      " [ 33  78]]\n",
      "Classification Report:\n",
      "              precision    recall  f1-score   support\n",
      "\n",
      "           0       0.81      0.90      0.85       157\n",
      "           1       0.83      0.70      0.76       111\n",
      "\n",
      "    accuracy                           0.82       268\n",
      "   macro avg       0.82      0.80      0.81       268\n",
      "weighted avg       0.82      0.82      0.81       268\n",
      "\n"
     ]
    }
   ],
   "source": [
    "#BUSQUEDA DE HYPERPARAMETROS\n",
    "# Defina el árbol de decisión base\n",
    "base_dt = DecisionTreeClassifier(random_state=42)\n",
    "\n",
    "# Defina los hiperparámetros que desea explorar en la búsqueda en cuadrícula\n",
    "param_grid = {\n",
    "    'criterion': ['gini', 'entropy'],\n",
    "    'max_depth': [None, 3, 5, 7, 10],\n",
    "    'min_samples_split': [2, 5, 10],\n",
    "    'min_samples_leaf': [1, 2, 5]\n",
    "}\n",
    "\n",
    "# Realice la búsqueda en cuadrícula\n",
    "grid_search = GridSearchCV(base_dt, param_grid, scoring='accuracy', cv=5, verbose=1, n_jobs=-1)\n",
    "grid_search.fit(X_train, y_train)\n",
    "\n",
    "# Imprima los mejores hiperparámetros y la puntuación correspondiente\n",
    "print(\"Best Hyperparameters:\", grid_search.best_params_)\n",
    "print(\"Best Score:\", grid_search.best_score_)\n",
    "\n",
    "# Rendimiento del mejor modelo en el conjunto de prueba\n",
    "best_model = grid_search.best_estimator_\n",
    "y_pred = best_model.predict(X_test)\n",
    "\n",
    "accuracy = accuracy_score(y_test, y_pred)\n",
    "print(f'Accuracy: {accuracy:.2f}')\n",
    "\n",
    "conf_matrix = confusion_matrix(y_test, y_pred)\n",
    "print(f'Confusion Matrix:\\n{conf_matrix}')\n",
    "\n",
    "class_report = classification_report(y_test, y_pred)\n",
    "print(f'Classification Report:\\n{class_report}')"
   ]
  },
  {
   "cell_type": "code",
   "execution_count": 8,
   "id": "86a55d06",
   "metadata": {},
   "outputs": [],
   "source": [
    "# RANDOM FOREST"
   ]
  },
  {
   "cell_type": "code",
   "execution_count": 9,
   "id": "8282fe08",
   "metadata": {
    "scrolled": true
   },
   "outputs": [
    {
     "name": "stdout",
     "output_type": "stream",
     "text": [
      "Fitting 5 folds for each of 360 candidates, totalling 1800 fits\n",
      "Best Hyperparameters: {'criterion': 'entropy', 'max_depth': None, 'min_samples_leaf': 2, 'min_samples_split': 10, 'n_estimators': 10}\n",
      "Best Score: 0.8346451612903227\n",
      "Accuracy: 0.82\n",
      "Confusion Matrix:\n",
      "[[145  12]\n",
      " [ 37  74]]\n",
      "Classification Report:\n",
      "              precision    recall  f1-score   support\n",
      "\n",
      "           0       0.80      0.92      0.86       157\n",
      "           1       0.86      0.67      0.75       111\n",
      "\n",
      "    accuracy                           0.82       268\n",
      "   macro avg       0.83      0.80      0.80       268\n",
      "weighted avg       0.82      0.82      0.81       268\n",
      "\n"
     ]
    }
   ],
   "source": [
    "# Defina el Random Forest base\n",
    "base_rf = RandomForestClassifier(random_state=42)\n",
    "\n",
    "# Defina los hiperparámetros que desea explorar en la búsqueda en cuadrícula\n",
    "param_grid = {\n",
    "    'n_estimators': [10, 50, 100, 200],\n",
    "    'criterion': ['gini', 'entropy'],\n",
    "    'max_depth': [None, 3, 5, 7, 10],\n",
    "    'min_samples_split': [2, 5, 10],\n",
    "    'min_samples_leaf': [1, 2, 5]\n",
    "}\n",
    "\n",
    "# Realice la búsqueda en cuadrícula\n",
    "grid_search = GridSearchCV(base_rf, param_grid, scoring='accuracy', cv=5, verbose=1, n_jobs=-1)\n",
    "grid_search.fit(X_train, y_train)\n",
    "\n",
    "# Imprima los mejores hiperparámetros y la puntuación correspondiente\n",
    "print(\"Best Hyperparameters:\", grid_search.best_params_)\n",
    "print(\"Best Score:\", grid_search.best_score_)\n",
    "\n",
    "# Rendimiento del mejor modelo en el conjunto de prueba\n",
    "best_model = grid_search.best_estimator_\n",
    "y_pred = best_model.predict(X_test)\n",
    "\n",
    "accuracy = accuracy_score(y_test, y_pred)\n",
    "print(f'Accuracy: {accuracy:.2f}')\n",
    "\n",
    "conf_matrix = confusion_matrix(y_test, y_pred)\n",
    "print(f'Confusion Matrix:\\n{conf_matrix}')\n",
    "\n",
    "class_report = classification_report(y_test, y_pred)\n",
    "print(f'Classification Report:\\n{class_report}')"
   ]
  },
  {
   "cell_type": "code",
   "execution_count": 10,
   "id": "5dbbcc32",
   "metadata": {},
   "outputs": [],
   "source": [
    "# Cargar el conjunto de datos de prueba\n",
    "test_data = pd.read_csv('test_kaggle.csv')\n",
    "\n",
    "# Rellenar las edades faltantes con la mediana\n",
    "test_data['Age'].fillna(data['Age'].median(), inplace=True)\n",
    "\n",
    "# Eliminar las características irrelevantes\n",
    "test_data.drop(['Name', 'Ticket', 'Cabin'], axis=1, inplace=True)\n",
    "\n",
    "# Convertir la columna 'Sex' en una variable numérica (1 para 'male' y 0 para 'female')\n",
    "test_data['Sex'] = test_data['Sex'].map({'male': 1, 'female': 0})\n",
    "\n",
    "# Verificar si la columna 'Embarked' existe en el conjunto de datos de prueba\n",
    "if 'Embarked' in test_data.columns:\n",
    "    # Convertir la columna 'Embarked' en variables numéricas utilizando la codificación One-Hot\n",
    "    embarked_encoded = pd.get_dummies(test_data['Embarked'], prefix='Embarked')\n",
    "    test_data = pd.concat([test_data, embarked_encoded], axis=1)\n",
    "    test_data.drop(['Embarked'], axis=1, inplace=True)\n",
    "    \n",
    "# Eliminar la columna 'Unnamed: 0' si existe\n",
    "if 'Unnamed: 0' in test_data.columns:\n",
    "    test_data.drop(['Unnamed: 0'], axis=1, inplace=True)\n",
    "\n",
    "# Rellenar los valores NaN con la mediana de la columna correspondiente\n",
    "test_data.fillna(test_data.median(), inplace=True)\n",
    "\n",
    "# Transformar los datos y hacer la predicción\n",
    "test_data_scaled = scaler.transform(test_data)\n",
    "test_predictions = best_model.predict(test_data_scaled)\n",
    "\n",
    "# Crear un DataFrame para el resultado\n",
    "result = pd.DataFrame()\n",
    "result['PassengerId'] = test_data['PassengerId']\n",
    "result['Survived'] = test_predictions\n",
    "\n",
    "# Guardar el resultado en un archivo CSV\n",
    "result.to_csv('test_predictions.csv', index=False)"
   ]
  },
  {
   "cell_type": "code",
   "execution_count": null,
   "id": "84477426",
   "metadata": {},
   "outputs": [],
   "source": []
  }
 ],
 "metadata": {
  "kernelspec": {
   "display_name": "Python 3 (ipykernel)",
   "language": "python",
   "name": "python3"
  },
  "language_info": {
   "codemirror_mode": {
    "name": "ipython",
    "version": 3
   },
   "file_extension": ".py",
   "mimetype": "text/x-python",
   "name": "python",
   "nbconvert_exporter": "python",
   "pygments_lexer": "ipython3",
   "version": "3.10.9"
  }
 },
 "nbformat": 4,
 "nbformat_minor": 5
}
